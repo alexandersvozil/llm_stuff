{
 "cells": [
  {
   "cell_type": "code",
   "execution_count": 2,
   "metadata": {},
   "outputs": [],
   "source": [
    "# RUN THIS CELL FIRST!\n",
    "!pip install -q langchain==0.0.150 pandas matplotlib tiktoken textract transformers openai faiss-cpu"
   ]
  },
  {
   "cell_type": "code",
   "execution_count": 1,
   "metadata": {},
   "outputs": [],
   "source": [
    "import os\n",
    "from transformers import GPT2TokenizerFast\n",
    "from langchain.text_splitter import RecursiveCharacterTextSplitter\n",
    "from langchain.embeddings import OpenAIEmbeddings\n",
    "from langchain.vectorstores import FAISS\n",
    "from langchain.chains.question_answering import load_qa_chain\n",
    "from langchain.chat_models import ChatOpenAI\n",
    "import markdown\n",
    "from IPython.display import HTML\n"
   ]
  },
  {
   "cell_type": "code",
   "execution_count": 10,
   "metadata": {},
   "outputs": [],
   "source": [
    "\n",
    "os.environ[\"OPENAI_API_KEY\"] = os.getenv(\"OPENAI_KEY\") #put your openai API key here"
   ]
  },
  {
   "cell_type": "code",
   "execution_count": 3,
   "metadata": {},
   "outputs": [],
   "source": [
    "# Advanced method - Split by chunk\n",
    "\n",
    "# Step 1: Convert PDF to text\n",
    "import textract\n",
    "doc = textract.process(\"./scalable_timing_aware_network_design_via_lagrangian_decomposition.pdf\")\n",
    "\n",
    "# Step 2: Save to .txt and reopen (helps prevent issues)\n",
    "with open('scalable_timing_aware_network_design_via_lagrangian_decomposition.txt', 'w') as f:\n",
    "    f.write(doc.decode('utf-8'))\n",
    "\n",
    "with open('scalable_timing_aware_network_design_via_lagrangian_decomposition.txt', 'r') as f:\n",
    "    text = f.read()\n",
    "\n",
    "# Step 3: Create function to count tokens\n",
    "tokenizer = GPT2TokenizerFast.from_pretrained(\"gpt2\")\n",
    "\n",
    "\n",
    "def count_tokens(text: str) -> int:\n",
    "    return len(tokenizer.encode(text))\n",
    "\n",
    "\n",
    "# Step 4: Split text into chunks\n",
    "text_splitter = RecursiveCharacterTextSplitter(\n",
    "    # Set a really small chunk size, just to show.\n",
    "    chunk_size=512,\n",
    "    chunk_overlap=24,\n",
    "    length_function=count_tokens,\n",
    ")\n",
    "\n",
    "chunks = text_splitter.create_documents([text])\n"
   ]
  },
  {
   "cell_type": "code",
   "execution_count": 4,
   "metadata": {},
   "outputs": [],
   "source": [
    "embeddings = OpenAIEmbeddings()\n",
    "db = FAISS.from_documents(chunks, embeddings)\n"
   ]
  },
  {
   "cell_type": "code",
   "execution_count": 5,
   "metadata": {},
   "outputs": [],
   "source": [
    "\n",
    "chain = load_qa_chain(ChatOpenAI(temperature=0), chain_type=\"stuff\")\n",
    "\n",
    "\n",
    "def query_model(query: str) -> str:\n",
    "    docs = db.similarity_search(query)\n",
    "    response = chain.run(input_documents=docs, question=query)\n",
    "    html = markdown.markdown(response)\n",
    "    return HTML(html)\n"
   ]
  },
  {
   "cell_type": "code",
   "execution_count": 6,
   "metadata": {},
   "outputs": [
    {
     "data": {
      "text/html": [
       "<p>More than 85% of online shoppers consider shipping speed a top priority according to the given context.</p>"
      ],
      "text/plain": [
       "<IPython.core.display.HTML object>"
      ]
     },
     "execution_count": 6,
     "metadata": {},
     "output_type": "execute_result"
    }
   ],
   "source": [
    "query_model(\"How many \\% of shoppers consider shipping speed a top priority?\")\n"
   ]
  },
  {
   "cell_type": "code",
   "execution_count": 7,
   "metadata": {},
   "outputs": [
    {
     "data": {
      "text/html": [
       "<p>The temporal fixed-charge multicommodity flow problem (tfMCF) is a problem that aims to optimize intra-day decisions in a transportation network to increase delivery speed, which means maximizing the number of packages delivered on time. It is formulated as a Resource Task Network (RTN), a framework commonly used for chemical process industry applications. The problem is modeled as a mixed-integer program, which can become prohibitively large as the number of origin-destination pairs increases. Therefore, a model condensation technique is proposed to group similar OD pairs into buckets, reducing the number of variables and constraints by a factor of 25%-50%. The proposed model is extremely large, even for moderately-sized input graphs, and several techniques are developed to reduce its size and solve it efficiently.</p>"
      ],
      "text/plain": [
       "<IPython.core.display.HTML object>"
      ]
     },
     "execution_count": 7,
     "metadata": {},
     "output_type": "execute_result"
    }
   ],
   "source": [
    "\n",
    "#Advanced method\n",
    "query_model(\"Explain the tfmCF problem?\")\n",
    "\n"
   ]
  },
  {
   "cell_type": "code",
   "execution_count": 8,
   "metadata": {},
   "outputs": [
    {
     "data": {
      "text/html": [
       "<p>The contributions of this paper are not explicitly listed, but they are discussed throughout the text. However, based on the context provided, it seems that the contributions are:</p>\n",
       "<ol>\n",
       "<li>A scalable solution methodology for instances of the order of 100M+ variables and constraints.</li>\n",
       "<li>Modeling and solution techniques that can be extended to other real-world applications of tfMCF.</li>\n",
       "<li>A mixed-integer programming formulation for tfMCF.</li>\n",
       "<li>A heuristic leveraging the LP relaxation of the subproblems from early iterations of the split Lagrangian.</li>\n",
       "</ol>"
      ],
      "text/plain": [
       "<IPython.core.display.HTML object>"
      ]
     },
     "execution_count": 8,
     "metadata": {},
     "output_type": "execute_result"
    }
   ],
   "source": [
    "query_model(\"What are the 4 contributions of this paper?\")\n"
   ]
  },
  {
   "cell_type": "code",
   "execution_count": 9,
   "metadata": {},
   "outputs": [
    {
     "data": {
      "text/html": [
       "<p>The mixed-integer programming formulation for tfMCF is given by equation (1a) in the context provided. It is a cost constrained speed maximization problem, formulated as a mixed-integer linear program (MIP). The MIP uses continuous variables Rr,t encoding the level of resource r at time t ∈ Tr. These variables are constrained to have value no larger than a parameter Rmaxr,t. It also has continuous variables bm,t representing the size of extent m at time t ∈ Tm. The model also has discrete variables yi,t for transportation tasks i ∈ IT, and times t ∈ Tday encoding the resource provisioning of transportation task i at time t. In a solution, the value of yi,t will represent the number of vehicles installed for i ∈ IT at time t, each day.</p>"
      ],
      "text/plain": [
       "<IPython.core.display.HTML object>"
      ]
     },
     "execution_count": 9,
     "metadata": {},
     "output_type": "execute_result"
    }
   ],
   "source": [
    "query_model(\"State the mixed-integer programming formulation\")\n"
   ]
  },
  {
   "cell_type": "code",
   "execution_count": 49,
   "metadata": {},
   "outputs": [
    {
     "data": {
      "text/html": [
       "<p>The mixed-integer programming formulation for tfMCF is given by equation 1a. It is a maximization problem with two terms:</p>\n",
       "<p>(i) ∑r∈R prod Rr,Nr T −1 – which describes the total flow arriving within the respective commodity’s horizon, and hence encodes the goal to maximize fulfillment, and\n",
       "(ii) ∑r∈R prod Rr,targetr T −1 – which describes the total flow arriving on time, and hence encodes the speed objective.</p>\n",
       "<p>The variables used in the formulation are:</p>\n",
       "<ul>\n",
       "<li>Rr,t: continuous variables encoding the level of resource r at time t ∈ Tr</li>\n",
       "<li>bm,t: continuous variables representing the size of extent m at time t ∈ Tm</li>\n",
       "<li>yi,t: discrete variables for transportation tasks i ∈ I T and times t ∈ T day encoding the resource provisioning of transportation task i at time t</li>\n",
       "</ul>\n",
       "<p>The constraints in the formulation are:</p>\n",
       "<ul>\n",
       "<li>Rr,t ≤ Rmaxr,t for all r ∈ R and t ∈ Tr</li>\n",
       "<li>yi,t ≥ 0 for all i ∈ I T and t ∈ T day</li>\n",
       "<li>yi,t is an integer for all i ∈ I T and t ∈ T day</li>\n",
       "<li>∑i∈I T yi,t ≤ Φ̂cost for all t ∈ T day</li>\n",
       "<li>∑m∈Mi γi,m bm,t ≤ Rr,t for all r ∈ R and t ∈ Tr</li>\n",
       "<li>∑r∈R Πr,t = ∑i∈I T yi,t for all t ∈ T day</li>\n",
       "<li>∑t∈T day yi,t = ∑m∈Mi bm,t for all i ∈ I T</li>\n",
       "<li>yi,t ≤ ζ for all i ∈ I T and t ∈ T day where yi,t is fixed to 0 if its solution in the linear relaxation of the Lagrangian subproblem is below the threshold</li>\n",
       "<li>yi,t = 1 for the transportation task occurrence with the highest value in the LP if all transportation task occurrences in an edge are below the rounding threshold</li>\n",
       "</ul>\n",
       "<p>The objective function is designed to maximize fulfillment with an emphasis on speed, and this is accomplished through its two terms. The first term describes the total flow arriving within the respective commodity’s horizon, and the second term describes the total flow arriving on time. The formulation also includes conversion parameters γi,m to account for multiple units of measure used for different types of processing capacities.</p>"
      ],
      "text/plain": [
       "<IPython.core.display.HTML object>"
      ]
     },
     "execution_count": 49,
     "metadata": {},
     "output_type": "execute_result"
    }
   ],
   "source": [
    "query_model(\"State the mixed-integer programming formulation in equation 1a, step by step explain everything\")\n"
   ]
  },
  {
   "cell_type": "code",
   "execution_count": null,
   "metadata": {},
   "outputs": [],
   "source": []
  }
 ],
 "metadata": {
  "kernelspec": {
   "display_name": "Python 3",
   "language": "python",
   "name": "python3"
  },
  "language_info": {
   "codemirror_mode": {
    "name": "ipython",
    "version": 3
   },
   "file_extension": ".py",
   "mimetype": "text/x-python",
   "name": "python",
   "nbconvert_exporter": "python",
   "pygments_lexer": "ipython3",
   "version": "3.8.10"
  },
  "orig_nbformat": 4
 },
 "nbformat": 4,
 "nbformat_minor": 2
}
