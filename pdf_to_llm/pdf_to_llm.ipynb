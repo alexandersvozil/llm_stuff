{
 "cells": [
  {
   "cell_type": "code",
   "execution_count": 2,
   "metadata": {},
   "outputs": [],
   "source": [
    "# RUN THIS CELL FIRST!\n",
    "!pip install -q langchain==0.0.150 pypdf pandas matplotlib tiktoken textract transformers openai faiss-cpu"
   ]
  },
  {
   "cell_type": "code",
   "execution_count": 50,
   "metadata": {},
   "outputs": [],
   "source": [
    "import os\n",
    "import pandas as pd\n",
    "import matplotlib.pyplot as plt\n",
    "from transformers import GPT2TokenizerFast\n",
    "from langchain.document_loaders import PyPDFLoader\n",
    "from langchain.text_splitter import RecursiveCharacterTextSplitter\n",
    "from langchain.embeddings import OpenAIEmbeddings\n",
    "from langchain.vectorstores import FAISS\n",
    "from langchain.chains.question_answering import load_qa_chain\n",
    "from langchain.chat_models import ChatOpenAI\n",
    "from langchain.chains import ConversationalRetrievalChain\n",
    "import markdown\n",
    "from IPython.display import HTML\n"
   ]
  },
  {
   "cell_type": "code",
   "execution_count": 51,
   "metadata": {},
   "outputs": [],
   "source": [
    "os.environ[\"OPENAI_API_KEY\"] = os.getenv(\"OPENAI_KEY\")"
   ]
  },
  {
   "cell_type": "code",
   "execution_count": 52,
   "metadata": {},
   "outputs": [
    {
     "data": {
      "text/plain": [
       "'More than 85% of online shoppers consider shipping speed a top priority.'"
      ]
     },
     "execution_count": 52,
     "metadata": {},
     "output_type": "execute_result"
    }
   ],
   "source": [
    "\n",
    "#NAIVE\n",
    "chain = load_qa_chain(OpenAIChat(temperature=0), chain_type=\"stuff\")\n",
    "\n",
    "query = \"How many percent of shoppers consider shipping speed a top priority?\"\n",
    "docs = db.similarity_search(query)\n",
    "\n",
    "chain.run(input_documents=docs, question=query)\n"
   ]
  },
  {
   "cell_type": "code",
   "execution_count": 53,
   "metadata": {},
   "outputs": [
    {
     "name": "stdout",
     "output_type": "stream",
     "text": [
      "huggingface/tokenizers: The current process just got forked, after parallelism has already been used. Disabling parallelism to avoid deadlocks...\n",
      "To disable this warning, you can either:\n",
      "\t- Avoid using `tokenizers` before the fork if possible\n",
      "\t- Explicitly set the environment variable TOKENIZERS_PARALLELISM=(true | false)\n"
     ]
    }
   ],
   "source": [
    "# Advanced method - Split by chunk\n",
    "\n",
    "# Step 1: Convert PDF to text\n",
    "import textract\n",
    "doc = textract.process(\"./scalable_timing_aware_network_design_via_lagrangian_decomposition.pdf\")\n",
    "\n",
    "# Step 2: Save to .txt and reopen (helps prevent issues)\n",
    "with open('scalable_timing_aware_network_design_via_lagrangian_decomposition.txt', 'w') as f:\n",
    "    f.write(doc.decode('utf-8'))\n",
    "\n",
    "with open('scalable_timing_aware_network_design_via_lagrangian_decomposition.txt', 'r') as f:\n",
    "    text = f.read()\n",
    "\n",
    "# Step 3: Create function to count tokens\n",
    "tokenizer = GPT2TokenizerFast.from_pretrained(\"gpt2\")\n",
    "\n",
    "\n",
    "def count_tokens(text: str) -> int:\n",
    "    return len(tokenizer.encode(text))\n",
    "\n",
    "\n",
    "# Step 4: Split text into chunks\n",
    "text_splitter = RecursiveCharacterTextSplitter(\n",
    "    # Set a really small chunk size, just to show.\n",
    "    chunk_size=512,\n",
    "    chunk_overlap=24,\n",
    "    length_function=count_tokens,\n",
    ")\n",
    "\n",
    "chunks = text_splitter.create_documents([text])\n"
   ]
  },
  {
   "cell_type": "code",
   "execution_count": 54,
   "metadata": {},
   "outputs": [],
   "source": [
    "embeddings = OpenAIEmbeddings()\n",
    "db = FAISS.from_documents(chunks, embeddings)\n"
   ]
  },
  {
   "cell_type": "code",
   "execution_count": 55,
   "metadata": {},
   "outputs": [
    {
     "name": "stderr",
     "output_type": "stream",
     "text": [
      "/home/asvozil/.local/lib/python3.8/site-packages/langchain/llms/openai.py:672: UserWarning: You are trying to use a chat model. This way of initializing it is no longer supported. Instead, please use: `from langchain.chat_models import ChatOpenAI`\n",
      "  warnings.warn(\n"
     ]
    }
   ],
   "source": [
    "\n",
    "chain = load_qa_chain(OpenAIChat(temperature=0), chain_type=\"stuff\")\n",
    "\n",
    "\n",
    "def query_model(query: str) -> str:\n",
    "    docs = db.similarity_search(query)\n",
    "    response = chain.run(input_documents=docs, question=query)\n",
    "    html = markdown.markdown(response)\n",
    "    return HTML(html)\n"
   ]
  },
  {
   "cell_type": "code",
   "execution_count": 56,
   "metadata": {},
   "outputs": [
    {
     "data": {
      "text/html": [
       "<p>More than 85% of online shoppers consider shipping speed a top priority.</p>"
      ],
      "text/plain": [
       "<IPython.core.display.HTML object>"
      ]
     },
     "execution_count": 56,
     "metadata": {},
     "output_type": "execute_result"
    }
   ],
   "source": [
    "query_model(\"How many \\% of shoppers consider shipping speed a top priority?\")\n"
   ]
  },
  {
   "cell_type": "code",
   "execution_count": 57,
   "metadata": {},
   "outputs": [
    {
     "data": {
      "text/html": [
       "<p>The tfMCF problem is a transportation optimization problem that aims to increase delivery speed by maximizing the number of packages delivered on time. It is formulated as a Resource Task Network (RTN) and is presented as a mixed-integer-programming (MIP) model. The problem can become prohibitively large as the number of origin, destination (OD) pairs increases, so a model condensation technique is proposed to group similar OD pairs into buckets and reduce the number of variables and constraints. The proposed model is extremely large, so several techniques are developed to reduce its size, including exploiting synergies between flows of certain commodities, utilizing the geometric nature of the instances in the application studied, and developing a linear programming filtering heuristic.</p>"
      ],
      "text/plain": [
       "<IPython.core.display.HTML object>"
      ]
     },
     "execution_count": 57,
     "metadata": {},
     "output_type": "execute_result"
    }
   ],
   "source": [
    "\n",
    "#Advanced method\n",
    "query_model(\"Explain the tfmCF problem?\")\n",
    "\n"
   ]
  },
  {
   "cell_type": "code",
   "execution_count": 58,
   "metadata": {},
   "outputs": [
    {
     "data": {
      "text/html": [
       "<p>The contributions of this paper are discussed in Section 1.4 and include: a mixed-integer model for tfMCF, a split Lagrangian relaxation algorithm, a primal heuristic, and a computational study of the proposed methods.</p>"
      ],
      "text/plain": [
       "<IPython.core.display.HTML object>"
      ]
     },
     "execution_count": 58,
     "metadata": {},
     "output_type": "execute_result"
    }
   ],
   "source": [
    "query_model(\"What are the 4 contributions of this paper?\")\n"
   ]
  },
  {
   "cell_type": "code",
   "execution_count": 48,
   "metadata": {},
   "outputs": [
    {
     "data": {
      "text/html": [
       "<p>The mixed-integer programming formulation for tfMCF is presented in equation (1a) and its objective function is designed to maximize fulfillment with an emphasis on speed. It uses continuous variables Rr,t encoding the level of resource r at time t and discrete variables yi,t for transportation tasks i ∈ I T and times t ∈ T day encoding the resource provisioning of transportation task i at time t. The formulation also introduces parameters Πr,t to denote the amount of flow injected into resource r at time t and conversion parameters γi,m to account for multiple units of measure used for different types of processing capacities.</p>"
      ],
      "text/plain": [
       "<IPython.core.display.HTML object>"
      ]
     },
     "execution_count": 48,
     "metadata": {},
     "output_type": "execute_result"
    }
   ],
   "source": [
    "query_model(\"State the mixed-integer programming formulation\")\n"
   ]
  },
  {
   "cell_type": "code",
   "execution_count": 49,
   "metadata": {},
   "outputs": [
    {
     "data": {
      "text/html": [
       "<p>The mixed-integer programming formulation for tfMCF is given by equation 1a. It is a maximization problem with two terms:</p>\n",
       "<p>(i) ∑r∈R prod Rr,Nr T −1 – which describes the total flow arriving within the respective commodity’s horizon, and hence encodes the goal to maximize fulfillment, and\n",
       "(ii) ∑r∈R prod Rr,targetr T −1 – which describes the total flow arriving on time, and hence encodes the speed objective.</p>\n",
       "<p>The variables used in the formulation are:</p>\n",
       "<ul>\n",
       "<li>Rr,t: continuous variables encoding the level of resource r at time t ∈ Tr</li>\n",
       "<li>bm,t: continuous variables representing the size of extent m at time t ∈ Tm</li>\n",
       "<li>yi,t: discrete variables for transportation tasks i ∈ I T and times t ∈ T day encoding the resource provisioning of transportation task i at time t</li>\n",
       "</ul>\n",
       "<p>The constraints in the formulation are:</p>\n",
       "<ul>\n",
       "<li>Rr,t ≤ Rmaxr,t for all r ∈ R and t ∈ Tr</li>\n",
       "<li>yi,t ≥ 0 for all i ∈ I T and t ∈ T day</li>\n",
       "<li>yi,t is an integer for all i ∈ I T and t ∈ T day</li>\n",
       "<li>∑i∈I T yi,t ≤ Φ̂cost for all t ∈ T day</li>\n",
       "<li>∑m∈Mi γi,m bm,t ≤ Rr,t for all r ∈ R and t ∈ Tr</li>\n",
       "<li>∑r∈R Πr,t = ∑i∈I T yi,t for all t ∈ T day</li>\n",
       "<li>∑t∈T day yi,t = ∑m∈Mi bm,t for all i ∈ I T</li>\n",
       "<li>yi,t ≤ ζ for all i ∈ I T and t ∈ T day where yi,t is fixed to 0 if its solution in the linear relaxation of the Lagrangian subproblem is below the threshold</li>\n",
       "<li>yi,t = 1 for the transportation task occurrence with the highest value in the LP if all transportation task occurrences in an edge are below the rounding threshold</li>\n",
       "</ul>\n",
       "<p>The objective function is designed to maximize fulfillment with an emphasis on speed, and this is accomplished through its two terms. The first term describes the total flow arriving within the respective commodity’s horizon, and the second term describes the total flow arriving on time. The formulation also includes conversion parameters γi,m to account for multiple units of measure used for different types of processing capacities.</p>"
      ],
      "text/plain": [
       "<IPython.core.display.HTML object>"
      ]
     },
     "execution_count": 49,
     "metadata": {},
     "output_type": "execute_result"
    }
   ],
   "source": [
    "query_model(\"State the mixed-integer programming formulation in equation 1a, step by step explain everything\")\n"
   ]
  },
  {
   "cell_type": "code",
   "execution_count": null,
   "metadata": {},
   "outputs": [],
   "source": []
  }
 ],
 "metadata": {
  "kernelspec": {
   "display_name": "Python 3",
   "language": "python",
   "name": "python3"
  },
  "language_info": {
   "codemirror_mode": {
    "name": "ipython",
    "version": 3
   },
   "file_extension": ".py",
   "mimetype": "text/x-python",
   "name": "python",
   "nbconvert_exporter": "python",
   "pygments_lexer": "ipython3",
   "version": "3.8.10"
  },
  "orig_nbformat": 4
 },
 "nbformat": 4,
 "nbformat_minor": 2
}
